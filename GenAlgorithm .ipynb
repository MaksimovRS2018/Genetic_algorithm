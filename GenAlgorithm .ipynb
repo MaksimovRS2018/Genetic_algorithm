{
 "cells": [
  {
   "cell_type": "markdown",
   "metadata": {},
   "source": [
    "<html>\n",
    "<head>\n",
    "\t<title></title>\n",
    "</head>\n",
    "<body>\n",
    "<h1 style=\"text-align: center;line-height: 120%;\">ФЕДЕРАЛЬНОЕ ГОСУДАРСТВЕННОЕ БЮДЖЕТНОЕ ОБРАЗОВАТЕЛЬНОЕ УЧРЕЖДЕНИЕ ВЫСШЕГО ОБРАЗОВАНИЯ НАЦИОНАЛЬНЫЙ ИССЛЕДОВАТЕЛЬСКИЙ УНИВЕРСИТЕТ «МОСКОВСКИЙ ЭНЕРГЕТИЧЕСКИЙ ИНСТИТУТ» Кафедра «РЗиАЭ»</h1>\n",
    "<h2 style=\"text-align: center;line-height: 20%;\">Лабораторная работа №3</h2>\n",
    "\n",
    "<h3 style=\"text-align: center;line-height: 80%;\"><em>Генетический алгоритм</em></h3>\n",
    "\n",
    "<p style=\"text-align: right;line-height: 40%;\">Выполнил: студент группы Э-13м-19</p>\n",
    "<p style=\"text-align: right;line-height: 40%;\">Максимов Р.С.</p>\n",
    "\n",
    "<p style=\"text-align: right;line-height: 40%;\">Принял: Грачева Н. П.</p>\n",
    "<h4 style=\"text-align: center;line-height: 100%;\"><em> Москва, 2020</em></h3>\n",
    "</body>\n",
    "</html>"
   ]
  },
  {
   "cell_type": "code",
   "execution_count": 2,
   "metadata": {},
   "outputs": [],
   "source": [
    "import numpy as np\n",
    "import time\n",
    "import random \n",
    "import scipy\n",
    "from scipy import spatial\n",
    "import math"
   ]
  },
  {
   "cell_type": "code",
   "execution_count": 774,
   "metadata": {},
   "outputs": [],
   "source": [
    "def how_much_time(func):\n",
    "    def decor_time(*args):\n",
    "        start_time = time.time()\n",
    "        result = func(*args)\n",
    "        end_time = time.time()\n",
    "        print(\"All time for searching= \",end_time - start_time)\n",
    "        return end_time - start_time,result\n",
    "    return decor_time"
   ]
  },
  {
   "cell_type": "code",
   "execution_count": 761,
   "metadata": {},
   "outputs": [],
   "source": [
    "def create_new_population(size_word,alph):\n",
    "    random_word = ''\n",
    "    for i in range(size_word):\n",
    "        random_index = random.randint(0,len(alph)-1)\n",
    "        random_word = random_word + alph[random_index]\n",
    "    return random_word"
   ]
  },
  {
   "cell_type": "code",
   "execution_count": 762,
   "metadata": {},
   "outputs": [],
   "source": [
    "def generate_start_population(size,word,alphabet):\n",
    "    list_start_population = [create_new_population(len(word),alphabet) for i in range(size)]\n",
    "    return list_start_population    "
   ]
  },
  {
   "cell_type": "code",
   "execution_count": 763,
   "metadata": {},
   "outputs": [],
   "source": [
    "def create_dict_for_word(word):\n",
    "    dict_word = {}\n",
    "    for i in range(len(word)):\n",
    "        dict_word[i] = word[i]        \n",
    "    return dict_word"
   ]
  },
  {
   "cell_type": "code",
   "execution_count": 764,
   "metadata": {},
   "outputs": [],
   "source": [
    "def create_matric_for_search_cos_distance(population,dict_word):\n",
    "    matric = np.zeros((len(population), len(dict_word)))\n",
    "    number = 0\n",
    "    for one_from_populations in population:         \n",
    "        for i in range(0,len(one_from_populations)):\n",
    "            one_letter = one_from_populations[i] \n",
    "            a = 0                \n",
    "#             value = value_list[]\n",
    "            if one_letter == dict_word[i]:\n",
    "                a = a + 1            \n",
    "                matric[number,i] = a    \n",
    "        number = number + 1\n",
    "    return matric"
   ]
  },
  {
   "cell_type": "code",
   "execution_count": 765,
   "metadata": {},
   "outputs": [],
   "source": [
    "def crossover_between_parents(one_parent,two_parent,parents,alphabet):\n",
    "    ra = random.randint(0,len(alphabet)-1)\n",
    "    child=\"\"\n",
    "    mass_one_parent = parents[one_parent][1]\n",
    "    mass_two_parent = parents[two_parent][1]\n",
    "    for i in range(len(one_parent)):\n",
    "        actual_info_letter_one = mass_one_parent[i]\n",
    "        actual_info_letter_two = mass_two_parent[i]\n",
    "        if actual_info_letter_one == 1 or actual_info_letter_two == 1:\n",
    "            if (actual_info_letter_one == 1):\n",
    "                child = child + one_parent[i]            \n",
    "            elif actual_info_letter_two == 1:\n",
    "                child = child + two_parent[i]\n",
    "        else:            \n",
    "            child = child + alphabet[ra]\n",
    "    return child"
   ]
  },
  {
   "cell_type": "code",
   "execution_count": 766,
   "metadata": {},
   "outputs": [],
   "source": [
    "def roulette_for_getting_parent(parents):\n",
    "    r = random.randint(0,len(parents)-1)\n",
    "    keys = list(parents.keys())\n",
    "    random_parent = keys[r]\n",
    "    cos_dist_parent = parents[random_parent][0] #расстояние вытаскиваем из списка\n",
    "    return random_parent"
   ]
  },
  {
   "cell_type": "code",
   "execution_count": 767,
   "metadata": {},
   "outputs": [],
   "source": [
    "def generate_new_population(size,parents,alphabet,word):\n",
    "    i = 0\n",
    "    actual_parents = []\n",
    "    numbers_for_roulette = round(size - size/4)\n",
    "    numbers_new = round(size - numbers_for_roulette)\n",
    "\n",
    "    while i < numbers_for_roulette:\n",
    "        one_parent = roulette_for_getting_parent(parents)\n",
    "        two_parent = roulette_for_getting_parent(parents)\n",
    "        child = crossover_between_parents(one_parent,two_parent,parents,alphabet)\n",
    "        actual_parents.append(child)\n",
    "        i = i + 1\n",
    "\n",
    "    j = 0\n",
    "    while j < numbers_new:\n",
    "        actual_parents.append(create_new_population(len(word),alphabet))\n",
    "        j = j + 1 \n",
    "    return actual_parents"
   ]
  },
  {
   "cell_type": "code",
   "execution_count": 768,
   "metadata": {},
   "outputs": [],
   "source": [
    "def splitting_word(words):\n",
    "    word_list = words.split()\n",
    "    new_word_list = []\n",
    "    probel_list = []\n",
    "#     print(word_list)\n",
    "    for one_word in word_list:\n",
    "        if (len(one_word) > 6):\n",
    "            one_part = one_word[:round(len(one_word)/2)]\n",
    "            new_word_list.append(one_part)\n",
    "            probel_list.append('')\n",
    "            two_part = one_word[round(len(one_word)/2):]\n",
    "            new_word_list.append(two_part)\n",
    "            probel_list.append(' ')\n",
    "        else:\n",
    "            new_word_list.append(one_word)\n",
    "            probel_list.append(' ')\n",
    "    return new_word_list,probel_list"
   ]
  },
  {
   "cell_type": "code",
   "execution_count": 843,
   "metadata": {},
   "outputs": [],
   "source": [
    "@how_much_time\n",
    "def genetic_algorithm(word, alphabet):\n",
    "#     print('Hello')\n",
    "    alphabet = alphabet.lower()\n",
    "    set_alphabet = set()\n",
    "    for i in range(len(alphabet)):\n",
    "        set_alphabet.add(alphabet[i])\n",
    "    \n",
    "    alphabet = list(set_alphabet)\n",
    "#     print(alphabet)\n",
    "    numbers = 10\n",
    "    new_word = ''\n",
    "    word_list = word.split()\n",
    "#     print(word_list)    \n",
    "#     word_split = splitting_word(word)\n",
    "#     word_list = word_split[0]\n",
    "#     probel_list = word_split[1]\n",
    "#     print(word_split)\n",
    "    for one_from in word_list:\n",
    "        flag = False\n",
    "        if (one_from[0].isupper()):\n",
    "#             print(one_from).\n",
    "            flag = True\n",
    "        one_from = one_from.lower()\n",
    "        condition = 1.\n",
    "        list_for_calc = [1] * len(one_from)\n",
    "        parent_population = {}\n",
    "        start_population = generate_start_population(numbers, one_from,alphabet)\n",
    "        dict_for_word = create_dict_for_word(one_from)\n",
    "        start_flag = True    \n",
    "        while start_flag:\n",
    "            matric = create_matric_for_search_cos_distance(start_population,dict_for_word)\n",
    "            for i in range(0,matric.shape[0]):\n",
    "                rass = scipy.spatial.distance.cosine(np.array(list_for_calc),matric[i,:])\n",
    "                if not(math.isnan(rass)):\n",
    "                    if condition < 0.1:\n",
    "                        condition = 0.7\n",
    "                    parent_population[start_population[i]] = [rass,matric[i,:]]\n",
    "                    if(rass < condition):\n",
    "                        condition = condition - 0.0001                        \n",
    "                    else:\n",
    "                        try:\n",
    "                            parent_population.pop(start_population[i])\n",
    "                        except KeyError:\n",
    "                            continue\n",
    "\n",
    "            if (len(parent_population) == 0):\n",
    "                start_population = generate_start_population(numbers, one_from,alphabet)\n",
    "            else:\n",
    "                start_population = generate_new_population(numbers,parent_population,alphabet,one_from)\n",
    "            if one_from in start_population:\n",
    "                index = start_population.index(one_from)                \n",
    "#                 new_word = new_word + probel_list[word_list.index(one_from)-1] + start_population[index]\n",
    "                actual_new_word = start_population[index]\n",
    "                if flag:\n",
    "                    new_word = new_word + actual_new_word.title() + ' '\n",
    "                else:\n",
    "                    new_word = new_word + actual_new_word + ' '\n",
    "#             \n",
    "#                 print(new_word)\n",
    "#                 print(parent_population)\n",
    "    #             print(start_population.index(word))\n",
    "    #             print(start_population[index])\n",
    "    #             print(start_population)\n",
    "                \n",
    "                start_flag = False\n",
    "                \n",
    "    return new_word\n",
    "        "
   ]
  },
  {
   "cell_type": "code",
   "execution_count": 844,
   "metadata": {},
   "outputs": [],
   "source": [
    "@how_much_time\n",
    "def full_search(word,alp):\n",
    "    new_word = ''\n",
    "    for i in range(len(word)):\n",
    "        j = 0\n",
    "        while j < len(alp):\n",
    "            if(word[i] == alp[j]):\n",
    "                new_word = new_word + alp[j]\n",
    "                j = len(alp)\n",
    "            else:\n",
    "                j = j + 1\n",
    "    \n",
    "    return new_word"
   ]
  },
  {
   "cell_type": "code",
   "execution_count": 848,
   "metadata": {
    "scrolled": false
   },
   "outputs": [
    {
     "name": "stdout",
     "output_type": "stream",
     "text": [
      "All time for searching=  0.2592658996582031\n",
      "(0.2592658996582031, 'Хорошо ли? Натурально ли? Не преувеличил ли? — трепетал про себя Раскольников. — Зачем сказал: «женщины»? ')\n"
     ]
    }
   ],
   "source": [
    "# # word = \"роба\"\n",
    "# word = \"блЮЗ\"\n",
    "# alphabet = \"абвгдеёжзийклмнопрстуфхцчшщъыьэюя\"\n",
    "# alphabet = \"абвгдеёжзийклмнопрстуфхцчшщъыьэюяАБВГДЕЁЖЗИЙКЛМНОПРСТУФХЦЧШЩЪЫЬЭЮЯ\"\n",
    "word = \"Хорошо ли? Натурально ли? Не преувеличил ли? — трепетал про себя Раскольников. — Зачем сказал: «женщины»?\"\n",
    "alphabet = \"абвгдеёжзийклмнопрстуфхцчшщъыьэюяАБВГДЕЁЖЗИЙКЛМНОПРСТУФХЦЧШЩЪЫЬЭЮЯ-.,!:;?«»—\"\n",
    "# word = \"Познакомились на концерте Little Big\"\n",
    "# alphabet = \"абвгдеёжзийклмнопрстуфхцчшщъыьэюяАБВГДЕЁЖЗИЙКЛМНОПРСТУФХЦЧШЩЪЫЬЭЮЯabcdefghijklmnopqrstuvwxyzABCDEFGHIJKLMNOPQRSTUVWXYZ\"\n",
    "m = genetic_algorithm(word, alphabet)\n",
    "print(m)\n",
    "# n = full_search(word, alphabet)"
   ]
  },
  {
   "cell_type": "markdown",
   "metadata": {},
   "source": [
    "Вывод: после добавления функционала учета верхнего и нижнего регистра, время работы алгоритма снизилось в 3 раза"
   ]
  },
  {
   "cell_type": "code",
   "execution_count": null,
   "metadata": {},
   "outputs": [],
   "source": []
  }
 ],
 "metadata": {
  "kernelspec": {
   "display_name": "Python 3",
   "language": "python",
   "name": "python3"
  },
  "language_info": {
   "codemirror_mode": {
    "name": "ipython",
    "version": 3
   },
   "file_extension": ".py",
   "mimetype": "text/x-python",
   "name": "python",
   "nbconvert_exporter": "python",
   "pygments_lexer": "ipython3",
   "version": "3.7.4"
  }
 },
 "nbformat": 4,
 "nbformat_minor": 2
}
